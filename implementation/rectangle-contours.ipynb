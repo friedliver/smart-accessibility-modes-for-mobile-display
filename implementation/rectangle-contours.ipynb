{
 "cells": [
  {
   "cell_type": "code",
   "execution_count": null,
   "metadata": {},
   "outputs": [],
   "source": [
    "import cv2\n",
    "import numpy as np"
   ]
  },
  {
   "cell_type": "code",
   "execution_count": null,
   "metadata": {},
   "outputs": [],
   "source": [
    "img = cv2.imread('../screens/IMG_8B6F6BBC59FF-1.jpeg')\n",
    "gray = cv2.cvtColor(img,cv2.COLOR_BGR2GRAY)\n",
    "invGamma = 1.0 / 0.3\n",
    "table = np.array([((i / 255.0) ** invGamma) * 255\n",
    "for i in np.arange(0, 256)]).astype(\"uint8\")\n",
    "\n",
    "gray = cv2.LUT(gray, table)\n",
    "\n",
    "ret,thresh1 = cv2.threshold(gray,80,255,cv2.THRESH_BINARY)\n",
    "thresh1 = cv2.erode(thresh1, None, iterations=2)\n",
    "thresh1 = cv2.dilate(thresh1, None, iterations=2)\n",
    "\n",
    "contours, hierarchy = cv2.findContours(thresh1, cv2.RETR_TREE, cv2.CHAIN_APPROX_SIMPLE)\n",
    "\n",
    "output = cv2.drawContours(img, contours, -1, (0, 0, 255), 3)\n",
    "\n",
    "cv2.imwrite('../output/result_contours.png',output)"
   ]
  },
  {
   "cell_type": "code",
   "execution_count": null,
   "metadata": {},
   "outputs": [],
   "source": [
    "#loop contours and bound to a rectangle \n",
    "for contour in contours:\n",
    "    (x,y,w,h) = cv2.boundingRect(contour)\n",
    "    cv2.rectangle(img, (x,y), (x+w,y+h), (0,255,0), 2)\n",
    "    \n",
    "cv2.imwrite('../output/result_contours_rect.png',img)"
   ]
  },
  {
   "cell_type": "code",
   "execution_count": null,
   "metadata": {},
   "outputs": [],
   "source": [
    "def biggestRectangle(contours):\n",
    "    biggest = None\n",
    "    max_area = 0\n",
    "    indexReturn = -1\n",
    "    for index in range(len(contours)):\n",
    "            i = contours[index]\n",
    "            area = cv2.contourArea(i)\n",
    "            if area > 100:\n",
    "                approx = cv2.approxPolyDP(i,0.1*cv2.arcLength(i,True),True)\n",
    "                if area > max_area and len(approx)==4:\n",
    "                        biggest = approx\n",
    "                        max_area = area\n",
    "                        indexReturn = index\n",
    "    return indexReturn\n",
    "\n",
    "indexReturn = biggestRectangle(contours)\n",
    "hull = cv2.convexHull(contours[indexReturn])\n",
    "cv2.imwrite('./result_biggest_rectangle.png',cv2.drawContours(img, [hull], 0, (255,0,0),3))"
   ]
  }
 ],
 "metadata": {
  "kernelspec": {
   "display_name": "Python 3",
   "language": "python",
   "name": "python3"
  },
  "language_info": {
   "codemirror_mode": {
    "name": "ipython",
    "version": 3
   },
   "file_extension": ".py",
   "mimetype": "text/x-python",
   "name": "python",
   "nbconvert_exporter": "python",
   "pygments_lexer": "ipython3",
   "version": "3.7.4"
  }
 },
 "nbformat": 4,
 "nbformat_minor": 2
}
